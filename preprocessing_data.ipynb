{
 "cells": [
  {
   "cell_type": "code",
   "execution_count": 3,
   "metadata": {},
   "outputs": [],
   "source": [
    "# Preprocessing Data\n",
    "\n",
    "import pandas as pd\n",
    "\n",
    "# Membaca file Excel\n",
    "file_path = 'Data_Cuaca.xlsx'\n",
    "data = pd.read_excel(file_path)\n",
    "\n",
    "# 1. Mengambil kolom yang dibutuhkan\n",
    "selected_columns = ['name', 'datetime', 'tempmax', 'tempmin']\n",
    "data_selected = data[selected_columns]"
   ]
  },
  {
   "cell_type": "code",
   "execution_count": 4,
   "metadata": {},
   "outputs": [
    {
     "name": "stderr",
     "output_type": "stream",
     "text": [
      "C:\\Users\\dwia6\\AppData\\Local\\Temp\\ipykernel_18956\\3152649205.py:2: SettingWithCopyWarning: \n",
      "A value is trying to be set on a copy of a slice from a DataFrame.\n",
      "Try using .loc[row_indexer,col_indexer] = value instead\n",
      "\n",
      "See the caveats in the documentation: https://pandas.pydata.org/pandas-docs/stable/user_guide/indexing.html#returning-a-view-versus-a-copy\n",
      "  data_selected['tempmax'] = data_selected['tempmax'].astype(str).str.replace(',', '.').astype(float)\n",
      "C:\\Users\\dwia6\\AppData\\Local\\Temp\\ipykernel_18956\\3152649205.py:3: SettingWithCopyWarning: \n",
      "A value is trying to be set on a copy of a slice from a DataFrame.\n",
      "Try using .loc[row_indexer,col_indexer] = value instead\n",
      "\n",
      "See the caveats in the documentation: https://pandas.pydata.org/pandas-docs/stable/user_guide/indexing.html#returning-a-view-versus-a-copy\n",
      "  data_selected['tempmin'] = data_selected['tempmin'].astype(str).str.replace(',', '.').astype(float)\n"
     ]
    }
   ],
   "source": [
    "# 2. Mengubah titik menjadi koma pada kolom tempmax dan tempmin\n",
    "data_selected['tempmax'] = data_selected['tempmax'].astype(str).str.replace(',', '.').astype(float)\n",
    "data_selected['tempmin'] = data_selected['tempmin'].astype(str).str.replace(',', '.').astype(float)\n"
   ]
  },
  {
   "cell_type": "code",
   "execution_count": 5,
   "metadata": {},
   "outputs": [
    {
     "name": "stderr",
     "output_type": "stream",
     "text": [
      "C:\\Users\\dwia6\\AppData\\Local\\Temp\\ipykernel_18956\\2094907055.py:2: SettingWithCopyWarning: \n",
      "A value is trying to be set on a copy of a slice from a DataFrame\n",
      "\n",
      "See the caveats in the documentation: https://pandas.pydata.org/pandas-docs/stable/user_guide/indexing.html#returning-a-view-versus-a-copy\n",
      "  data_selected.drop_duplicates(inplace=True)\n"
     ]
    }
   ],
   "source": [
    "# 3. Menghilangkan data duplikat\n",
    "data_selected.drop_duplicates(inplace=True)"
   ]
  },
  {
   "cell_type": "code",
   "execution_count": 6,
   "metadata": {},
   "outputs": [
    {
     "name": "stderr",
     "output_type": "stream",
     "text": [
      "C:\\Users\\dwia6\\AppData\\Local\\Temp\\ipykernel_18956\\1057392960.py:2: SettingWithCopyWarning: \n",
      "A value is trying to be set on a copy of a slice from a DataFrame\n",
      "\n",
      "See the caveats in the documentation: https://pandas.pydata.org/pandas-docs/stable/user_guide/indexing.html#returning-a-view-versus-a-copy\n",
      "  data_selected.dropna(inplace=True)\n"
     ]
    }
   ],
   "source": [
    "# 4. Menghilangkan baris dengan data kosong\n",
    "data_selected.dropna(inplace=True)"
   ]
  },
  {
   "cell_type": "code",
   "execution_count": 7,
   "metadata": {},
   "outputs": [],
   "source": [
    "# 5. Menghapus data outlier\n",
    "data_selected = data_selected[(data_selected['tempmax'] <= 40) & (data_selected['tempmin'] >= 20)]"
   ]
  },
  {
   "cell_type": "code",
   "execution_count": 8,
   "metadata": {},
   "outputs": [
    {
     "name": "stdout",
     "output_type": "stream",
     "text": [
      "Data Berhasil Dibersihkan\n"
     ]
    }
   ],
   "source": [
    "# Menyimpan data yang sudah diolah ke file baru (Opsional)\n",
    "output_file_path = 'Data_Cuaca_Bersih.xlsx'\n",
    "data_selected.to_excel(output_file_path, index=False)\n",
    "\n",
    "# Menampilkan data yang sudah diolah\n",
    "print(\"Data Berhasil Dibersihkan\")"
   ]
  }
 ],
 "metadata": {
  "kernelspec": {
   "display_name": "Python 3",
   "language": "python",
   "name": "python3"
  },
  "language_info": {
   "codemirror_mode": {
    "name": "ipython",
    "version": 3
   },
   "file_extension": ".py",
   "mimetype": "text/x-python",
   "name": "python",
   "nbconvert_exporter": "python",
   "pygments_lexer": "ipython3",
   "version": "3.11.7"
  }
 },
 "nbformat": 4,
 "nbformat_minor": 2
}
