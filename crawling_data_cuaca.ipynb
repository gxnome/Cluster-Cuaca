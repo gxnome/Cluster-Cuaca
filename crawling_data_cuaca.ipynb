{
 "cells": [
  {
   "cell_type": "code",
   "execution_count": 1,
   "metadata": {},
   "outputs": [],
   "source": [
    "import requests\n",
    "import json\n",
    "import pandas as pd"
   ]
  },
  {
   "cell_type": "code",
   "execution_count": 2,
   "metadata": {},
   "outputs": [],
   "source": [
    "def get_weather_data(api_key, location, start_date, end_date):\n",
    "    base_url = \"https://weather.visualcrossing.com/VisualCrossingWebServices/rest/services/timeline/\"\n",
    "\n",
    "    elements = \"datetime,datetimeEpoch,temp,tempmax,tempmin,precip,windspeed,windgust,feelslike,feelslikemax,feelslikemin,pressure,stations,degreedays,accdegreedays\"\n",
    "    include = \"fcst,obs,histfcst,stats,hours\"\n",
    "    options = \"preview\"\n",
    "    \n",
    "    url = f\"{base_url}{location}/{start_date}/{end_date}?elements={elements}&include={include}&key={api_key}&options={options}&contentType=json\"\n",
    "\n",
    "    response = requests.get(url)\n",
    "\n",
    "    if response.status_code == 200:\n",
    "        # Mengonversi respons JSON ke bentuk Python\n",
    "        weather_data = json.loads(response.text)\n",
    "        return weather_data\n",
    "    else:\n",
    "        # Menampilkan pesan kesalahan jika permintaan gagal\n",
    "        print(f\"Terjadi Error. Status: {response.status_code}\")\n",
    "        return None"
   ]
  },
  {
   "cell_type": "code",
   "execution_count": 3,
   "metadata": {},
   "outputs": [],
   "source": [
    "# save data excel\n",
    "def save_to_excel(data, excel_filename):\n",
    "    df = pd.DataFrame(data['days'])\n",
    "    df.to_excel(excel_filename, index=False, engine='openpyxl')\n",
    "    print(f\"Data saved to {excel_filename}\")"
   ]
  },
  {
   "cell_type": "code",
   "execution_count": 4,
   "metadata": {},
   "outputs": [
    {
     "name": "stdout",
     "output_type": "stream",
     "text": [
      "Terjadi Error. Status: 429\n"
     ]
    }
   ],
   "source": [
    "if __name__ == \"__main__\":\n",
    "    # Replace 'YOUR_API_KEY' with your Visual Crossing Weather API key\n",
    "    api_key = 'Your API'\n",
    "\n",
    "    # Replace 'jakarta/2021-06-17/2024-01-01' with your desired location and date range\n",
    "    location = 'jakarta/2021-04-07/2024-01-01'\n",
    "\n",
    "    # Replace 'output_file.xlsx' with the desired Excel file name\n",
    "    excel_filename = 'output_file.xlsx'\n",
    "\n",
    "    weather_data = get_weather_data(api_key, location, \"\", \"\")\n",
    "\n",
    "    if weather_data:\n",
    "        save_to_excel(weather_data, excel_filename)"
   ]
  }
 ],
 "metadata": {
  "kernelspec": {
   "display_name": "Python 3",
   "language": "python",
   "name": "python3"
  },
  "language_info": {
   "codemirror_mode": {
    "name": "ipython",
    "version": 3
   },
   "file_extension": ".py",
   "mimetype": "text/x-python",
   "name": "python",
   "nbconvert_exporter": "python",
   "pygments_lexer": "ipython3",
   "version": "3.11.7"
  }
 },
 "nbformat": 4,
 "nbformat_minor": 2
}
